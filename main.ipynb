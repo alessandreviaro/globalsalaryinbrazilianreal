{
 "cells": [
  {
   "cell_type": "code",
   "execution_count": 2,
   "metadata": {},
   "outputs": [],
   "source": [
    "import pandas as pd\n"
   ]
  },
  {
   "cell_type": "code",
   "execution_count": null,
   "metadata": {},
   "outputs": [],
   "source": [
    "gsalary = pd.read_excel('globalsalary.xlsm', sheet_name='salary data')\n",
    "print(gsalary)"
   ]
  },
  {
   "cell_type": "code",
   "execution_count": 4,
   "metadata": {},
   "outputs": [
    {
     "name": "stdout",
     "output_type": "stream",
     "text": [
      "<class 'pandas.core.frame.DataFrame'>\n",
      "RangeIndex: 221 entries, 0 to 220\n",
      "Data columns (total 5 columns):\n",
      " #   Column          Non-Null Count  Dtype  \n",
      "---  ------          --------------  -----  \n",
      " 0   Country         221 non-null    object \n",
      " 1   Continent       221 non-null    object \n",
      " 2   Lowest Salary   221 non-null    float64\n",
      " 3   Average Salary  221 non-null    float64\n",
      " 4   Highest Salary  221 non-null    float64\n",
      "dtypes: float64(3), object(2)\n",
      "memory usage: 8.8+ KB\n"
     ]
    }
   ],
   "source": [
    "gsalary.info()"
   ]
  },
  {
   "cell_type": "code",
   "execution_count": null,
   "metadata": {},
   "outputs": [],
   "source": [
    "print(gsalary.isna().sum())"
   ]
  },
  {
   "cell_type": "code",
   "execution_count": null,
   "metadata": {},
   "outputs": [],
   "source": [
    "print(gsalary.head())\n",
    "print(gsalary.tail())"
   ]
  },
  {
   "cell_type": "markdown",
   "metadata": {},
   "source": [
    "Cleaning the DataSet"
   ]
  },
  {
   "cell_type": "code",
   "execution_count": 7,
   "metadata": {},
   "outputs": [],
   "source": [
    "gsalary['Lowest Salary'] = gsalary['Lowest Salary'].astype(int)\n",
    "gsalary['Average Salary'] = gsalary['Average Salary'].astype(int)\n",
    "gsalary['Highest Salary'] = gsalary['Highest Salary'].astype(int)"
   ]
  },
  {
   "cell_type": "code",
   "execution_count": 8,
   "metadata": {},
   "outputs": [],
   "source": [
    "gsalary = gsalary[~(gsalary['Lowest Salary'] == 0) & ~(gsalary['Average Salary'] == 0) & ~(gsalary['Highest Salary'] == 0)]"
   ]
  },
  {
   "cell_type": "markdown",
   "metadata": {},
   "source": [
    "Adjusting the salaries for Brazilian Reais"
   ]
  },
  {
   "cell_type": "code",
   "execution_count": 9,
   "metadata": {},
   "outputs": [],
   "source": [
    "cambio = 5.39\n",
    "\n",
    "gsalary['Lowest Salary'] = gsalary['Lowest Salary'] * cambio\n"
   ]
  },
  {
   "cell_type": "code",
   "execution_count": 10,
   "metadata": {},
   "outputs": [],
   "source": [
    "gsalary['Average Salary'] = gsalary['Average Salary'] * cambio\n"
   ]
  },
  {
   "cell_type": "code",
   "execution_count": 11,
   "metadata": {},
   "outputs": [],
   "source": [
    "gsalary['Highest Salary'] = gsalary['Highest Salary'] * cambio\n"
   ]
  },
  {
   "cell_type": "markdown",
   "metadata": {},
   "source": [
    "Adding the Brazilian Real symbol (R$)"
   ]
  },
  {
   "cell_type": "code",
   "execution_count": 12,
   "metadata": {},
   "outputs": [],
   "source": [
    "gsalary['Lowest Salary'] = gsalary['Lowest Salary'].astype(int)\n",
    "gsalary['Average Salary'] = gsalary['Average Salary'].astype(int)\n",
    "gsalary['Highest Salary'] = gsalary['Highest Salary'].astype(int)"
   ]
  },
  {
   "cell_type": "code",
   "execution_count": 13,
   "metadata": {},
   "outputs": [],
   "source": [
    "gsalary['Lowest Salary'] = 'R$' + gsalary['Lowest Salary'].astype(str)"
   ]
  },
  {
   "cell_type": "code",
   "execution_count": 14,
   "metadata": {},
   "outputs": [],
   "source": [
    "gsalary['Average Salary'] = 'R$' + gsalary['Average Salary'].astype(str)"
   ]
  },
  {
   "cell_type": "code",
   "execution_count": 15,
   "metadata": {},
   "outputs": [],
   "source": [
    "gsalary['Highest Salary'] = 'R$' + gsalary['Highest Salary'].astype(str)"
   ]
  },
  {
   "cell_type": "markdown",
   "metadata": {},
   "source": [
    "Exporting the Data Frame to Excel"
   ]
  },
  {
   "cell_type": "code",
   "execution_count": 16,
   "metadata": {},
   "outputs": [],
   "source": [
    "gsalary.to_excel('globalsalaryinR$.xlsx', index=False)"
   ]
  }
 ],
 "metadata": {
  "kernelspec": {
   "display_name": "Python 3",
   "language": "python",
   "name": "python3"
  },
  "language_info": {
   "codemirror_mode": {
    "name": "ipython",
    "version": 3
   },
   "file_extension": ".py",
   "mimetype": "text/x-python",
   "name": "python",
   "nbconvert_exporter": "python",
   "pygments_lexer": "ipython3",
   "version": "3.12.3"
  }
 },
 "nbformat": 4,
 "nbformat_minor": 2
}
